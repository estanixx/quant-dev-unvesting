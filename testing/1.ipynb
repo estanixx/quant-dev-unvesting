{
 "cells": [
  {
   "cell_type": "code",
   "execution_count": 1,
   "id": "99c4eaa8",
   "metadata": {},
   "outputs": [],
   "source": [
    "import sys\n",
    "import os\n",
    "\n",
    "# This adds the main project folder (\"QUANT-DEV-UNVESTING\") to the list of places\n",
    "# Python looks for code. It goes one level up from the current working directory.\n",
    "project_root = os.path.abspath(os.path.join(os.getcwd(), '..'))\n",
    "if project_root not in sys.path:\n",
    "    sys.path.insert(0, project_root)"
   ]
  },
  {
   "cell_type": "markdown",
   "id": "0a505d0b",
   "metadata": {},
   "source": [
    "# Purpose\n",
    "This testing file will be used to test some of the indicators"
   ]
  },
  {
   "cell_type": "code",
   "execution_count": 4,
   "id": "41b517e7",
   "metadata": {},
   "outputs": [
    {
     "name": "stderr",
     "output_type": "stream",
     "text": [
      "[*********************100%***********************]  5 of 5 completed\n"
     ]
    },
    {
     "data": {
      "text/html": [
       "<div>\n",
       "<style scoped>\n",
       "    .dataframe tbody tr th:only-of-type {\n",
       "        vertical-align: middle;\n",
       "    }\n",
       "\n",
       "    .dataframe tbody tr th {\n",
       "        vertical-align: top;\n",
       "    }\n",
       "\n",
       "    .dataframe thead th {\n",
       "        text-align: right;\n",
       "    }\n",
       "</style>\n",
       "<table border=\"1\" class=\"dataframe\">\n",
       "  <thead>\n",
       "    <tr style=\"text-align: right;\">\n",
       "      <th>Ticker</th>\n",
       "      <th>AAPL</th>\n",
       "      <th>EC</th>\n",
       "      <th>NU</th>\n",
       "      <th>NVDA</th>\n",
       "      <th>VOO</th>\n",
       "    </tr>\n",
       "    <tr>\n",
       "      <th>Date</th>\n",
       "      <th></th>\n",
       "      <th></th>\n",
       "      <th></th>\n",
       "      <th></th>\n",
       "      <th></th>\n",
       "    </tr>\n",
       "  </thead>\n",
       "  <tbody>\n",
       "    <tr>\n",
       "      <th>2024-06-17</th>\n",
       "      <td>215.661423</td>\n",
       "      <td>11.073669</td>\n",
       "      <td>11.83</td>\n",
       "      <td>130.938644</td>\n",
       "      <td>496.288025</td>\n",
       "    </tr>\n",
       "    <tr>\n",
       "      <th>2024-06-18</th>\n",
       "      <td>213.292480</td>\n",
       "      <td>11.289147</td>\n",
       "      <td>11.69</td>\n",
       "      <td>135.537186</td>\n",
       "      <td>497.610291</td>\n",
       "    </tr>\n",
       "    <tr>\n",
       "      <th>2024-06-20</th>\n",
       "      <td>208.703964</td>\n",
       "      <td>11.345359</td>\n",
       "      <td>12.08</td>\n",
       "      <td>130.738708</td>\n",
       "      <td>496.228790</td>\n",
       "    </tr>\n",
       "    <tr>\n",
       "      <th>2024-06-21</th>\n",
       "      <td>206.524155</td>\n",
       "      <td>11.242305</td>\n",
       "      <td>12.25</td>\n",
       "      <td>126.530022</td>\n",
       "      <td>495.143341</td>\n",
       "    </tr>\n",
       "    <tr>\n",
       "      <th>2024-06-24</th>\n",
       "      <td>207.171127</td>\n",
       "      <td>11.870000</td>\n",
       "      <td>11.86</td>\n",
       "      <td>118.072701</td>\n",
       "      <td>493.811218</td>\n",
       "    </tr>\n",
       "    <tr>\n",
       "      <th>...</th>\n",
       "      <td>...</td>\n",
       "      <td>...</td>\n",
       "      <td>...</td>\n",
       "      <td>...</td>\n",
       "      <td>...</td>\n",
       "    </tr>\n",
       "    <tr>\n",
       "      <th>2025-06-09</th>\n",
       "      <td>201.449997</td>\n",
       "      <td>8.930000</td>\n",
       "      <td>11.92</td>\n",
       "      <td>142.620102</td>\n",
       "      <td>551.250000</td>\n",
       "    </tr>\n",
       "    <tr>\n",
       "      <th>2025-06-10</th>\n",
       "      <td>202.669998</td>\n",
       "      <td>9.020000</td>\n",
       "      <td>11.97</td>\n",
       "      <td>143.950012</td>\n",
       "      <td>554.390015</td>\n",
       "    </tr>\n",
       "    <tr>\n",
       "      <th>2025-06-11</th>\n",
       "      <td>198.779999</td>\n",
       "      <td>9.310000</td>\n",
       "      <td>12.76</td>\n",
       "      <td>142.830002</td>\n",
       "      <td>552.859985</td>\n",
       "    </tr>\n",
       "    <tr>\n",
       "      <th>2025-06-12</th>\n",
       "      <td>199.199997</td>\n",
       "      <td>9.330000</td>\n",
       "      <td>12.00</td>\n",
       "      <td>145.000000</td>\n",
       "      <td>554.950012</td>\n",
       "    </tr>\n",
       "    <tr>\n",
       "      <th>2025-06-13</th>\n",
       "      <td>196.449997</td>\n",
       "      <td>9.670000</td>\n",
       "      <td>11.90</td>\n",
       "      <td>141.970001</td>\n",
       "      <td>548.770020</td>\n",
       "    </tr>\n",
       "  </tbody>\n",
       "</table>\n",
       "<p>249 rows × 5 columns</p>\n",
       "</div>"
      ],
      "text/plain": [
       "Ticker            AAPL         EC     NU        NVDA         VOO\n",
       "Date                                                            \n",
       "2024-06-17  215.661423  11.073669  11.83  130.938644  496.288025\n",
       "2024-06-18  213.292480  11.289147  11.69  135.537186  497.610291\n",
       "2024-06-20  208.703964  11.345359  12.08  130.738708  496.228790\n",
       "2024-06-21  206.524155  11.242305  12.25  126.530022  495.143341\n",
       "2024-06-24  207.171127  11.870000  11.86  118.072701  493.811218\n",
       "...                ...        ...    ...         ...         ...\n",
       "2025-06-09  201.449997   8.930000  11.92  142.620102  551.250000\n",
       "2025-06-10  202.669998   9.020000  11.97  143.950012  554.390015\n",
       "2025-06-11  198.779999   9.310000  12.76  142.830002  552.859985\n",
       "2025-06-12  199.199997   9.330000  12.00  145.000000  554.950012\n",
       "2025-06-13  196.449997   9.670000  11.90  141.970001  548.770020\n",
       "\n",
       "[249 rows x 5 columns]"
      ]
     },
     "execution_count": 4,
     "metadata": {},
     "output_type": "execute_result"
    }
   ],
   "source": [
    "import yfinance as yf\n",
    "import pandas as pd\n",
    "\n",
    "start_date = '2024-06-15'\n",
    "end_date = '2025-06-15'\n",
    "tickers = ['EC', 'VOO', 'NU', 'NVDA', 'AAPL']\n",
    "df = yf.download(tickers, start_date, end_date)['Close']\n",
    "df"
   ]
  },
  {
   "cell_type": "markdown",
   "id": "6fd54525",
   "metadata": {},
   "source": [
    "# Sharpe Ratio"
   ]
  },
  {
   "cell_type": "code",
   "execution_count": 5,
   "id": "e911da09",
   "metadata": {},
   "outputs": [
    {
     "name": "stdout",
     "output_type": "stream",
     "text": [
      "Sharpe for: EC is -0.23930325612902442. Performance below risk-free rate. REJECT.\n",
      "Sharpe for: VOO is 0.4667682531060147. Performance over risk-free rate. ACCEPT.\n",
      "Sharpe for: NU is 0.200254437250595. Performance over risk-free rate. ACCEPT.\n",
      "Sharpe for: NVDA is 0.3827488480038188. Performance over risk-free rate. ACCEPT.\n",
      "Sharpe for: AAPL is -0.22475351811167427. Performance below risk-free rate. REJECT.\n"
     ]
    }
   ],
   "source": [
    "from indicators import SharpeRatio\n",
    "rfr = 0.03\n",
    "periods_per_year = 252\n",
    "for ticker in tickers:\n",
    "    prices = df[ticker]\n",
    "    sr = SharpeRatio(prices, rfr, periods_per_year).calculate()\n",
    "    if sr > 0:\n",
    "        msg = 'Performance over risk-free rate. ACCEPT.'\n",
    "    else:\n",
    "        msg = 'Performance below risk-free rate. REJECT.' \n",
    "    print(f'Sharpe for: {ticker} is {sr}. {msg}')\n",
    "    "
   ]
  }
 ],
 "metadata": {
  "kernelspec": {
   "display_name": "stratarb",
   "language": "python",
   "name": "python3"
  },
  "language_info": {
   "codemirror_mode": {
    "name": "ipython",
    "version": 3
   },
   "file_extension": ".py",
   "mimetype": "text/x-python",
   "name": "python",
   "nbconvert_exporter": "python",
   "pygments_lexer": "ipython3",
   "version": "3.9.21"
  }
 },
 "nbformat": 4,
 "nbformat_minor": 5
}
